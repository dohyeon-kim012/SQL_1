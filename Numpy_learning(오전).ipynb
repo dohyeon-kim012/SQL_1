{
  "nbformat": 4,
  "nbformat_minor": 0,
  "metadata": {
    "colab": {
      "name": "Numpy_learning(오전).ipynb",
      "provenance": [],
      "authorship_tag": "ABX9TyPSbHYsBIyNJPWSEhMszQrv",
      "include_colab_link": true
    },
    "kernelspec": {
      "name": "python3",
      "display_name": "Python 3"
    },
    "language_info": {
      "name": "python"
    }
  },
  "cells": [
    {
      "cell_type": "markdown",
      "metadata": {
        "id": "view-in-github",
        "colab_type": "text"
      },
      "source": [
        "<a href=\"https://colab.research.google.com/github/dohyeon-kim012/SQL_1/blob/main/Numpy_learning(%EC%98%A4%EC%A0%84).ipynb\" target=\"_parent\"><img src=\"https://colab.research.google.com/assets/colab-badge.svg\" alt=\"Open In Colab\"/></a>"
      ]
    },
    {
      "cell_type": "code",
      "metadata": {
        "id": "5Ocdq1zW5ZbQ"
      },
      "source": [
        "import numpy as np\n",
        "import pandas as pd"
      ],
      "execution_count": 2,
      "outputs": []
    },
    {
      "cell_type": "code",
      "metadata": {
        "id": "MBo7IAPW5zoq"
      },
      "source": [
        "t = [ i * 3 for i in range(1, 11)]"
      ],
      "execution_count": 3,
      "outputs": []
    },
    {
      "cell_type": "code",
      "metadata": {
        "id": "oBw5F2Iv90DX"
      },
      "source": [
        "a = [1, 2, 3]\n",
        "b = [4, 5, 6]\n",
        "c = [a, b]"
      ],
      "execution_count": 5,
      "outputs": []
    },
    {
      "cell_type": "code",
      "metadata": {
        "id": "8F2laHoz9xmu"
      },
      "source": [
        "np1 = np.array(t) # 1차원"
      ],
      "execution_count": 4,
      "outputs": []
    },
    {
      "cell_type": "code",
      "metadata": {
        "colab": {
          "base_uri": "https://localhost:8080/"
        },
        "id": "Mqs4quiz95Bh",
        "outputId": "e2e33e21-a64e-492d-d1bb-9e375db5c4aa"
      },
      "source": [
        "type(np1)"
      ],
      "execution_count": 6,
      "outputs": [
        {
          "output_type": "execute_result",
          "data": {
            "text/plain": [
              "numpy.ndarray"
            ]
          },
          "metadata": {
            "tags": []
          },
          "execution_count": 6
        }
      ]
    },
    {
      "cell_type": "code",
      "metadata": {
        "colab": {
          "base_uri": "https://localhost:8080/"
        },
        "id": "-7fAiUeO-HxR",
        "outputId": "7c185a6f-9662-4c69-f587-ed96c70e714e"
      },
      "source": [
        "np1"
      ],
      "execution_count": 7,
      "outputs": [
        {
          "output_type": "execute_result",
          "data": {
            "text/plain": [
              "array([ 3,  6,  9, 12, 15, 18, 21, 24, 27, 30])"
            ]
          },
          "metadata": {
            "tags": []
          },
          "execution_count": 7
        }
      ]
    },
    {
      "cell_type": "code",
      "metadata": {
        "colab": {
          "base_uri": "https://localhost:8080/"
        },
        "id": "qizkc-wt-MeD",
        "outputId": "c6c9b6c6-033a-4632-a96b-4e33b3fdd09e"
      },
      "source": [
        "np1 + 1"
      ],
      "execution_count": 8,
      "outputs": [
        {
          "output_type": "execute_result",
          "data": {
            "text/plain": [
              "array([ 4,  7, 10, 13, 16, 19, 22, 25, 28, 31])"
            ]
          },
          "metadata": {
            "tags": []
          },
          "execution_count": 8
        }
      ]
    },
    {
      "cell_type": "code",
      "metadata": {
        "colab": {
          "base_uri": "https://localhost:8080/"
        },
        "id": "Z3RV1N9t-zan",
        "outputId": "f2c964bb-006e-47f0-d189-666e44af7929"
      },
      "source": [
        "np1.dtype\n",
        "# 파란색은 변수, 보라색은 함수"
      ],
      "execution_count": 11,
      "outputs": [
        {
          "output_type": "execute_result",
          "data": {
            "text/plain": [
              "dtype('int64')"
            ]
          },
          "metadata": {
            "tags": []
          },
          "execution_count": 11
        }
      ]
    },
    {
      "cell_type": "code",
      "metadata": {
        "colab": {
          "base_uri": "https://localhost:8080/"
        },
        "id": "-s5BgvpYAEgo",
        "outputId": "d352220e-03af-4065-c1d5-8f99213b99be"
      },
      "source": [
        "np1.shape # 1차원"
      ],
      "execution_count": 12,
      "outputs": [
        {
          "output_type": "execute_result",
          "data": {
            "text/plain": [
              "(10,)"
            ]
          },
          "metadata": {
            "tags": []
          },
          "execution_count": 12
        }
      ]
    },
    {
      "cell_type": "code",
      "metadata": {
        "colab": {
          "base_uri": "https://localhost:8080/"
        },
        "id": "PdIhO_6kBd-n",
        "outputId": "20ff7b9b-6850-4b21-c0c6-8347c4ce2f16"
      },
      "source": [
        "np1.mean()\n",
        "# np1 배열의 평균값 구함"
      ],
      "execution_count": 14,
      "outputs": [
        {
          "output_type": "execute_result",
          "data": {
            "text/plain": [
              "16.5"
            ]
          },
          "metadata": {
            "tags": []
          },
          "execution_count": 14
        }
      ]
    },
    {
      "cell_type": "code",
      "metadata": {
        "colab": {
          "base_uri": "https://localhost:8080/"
        },
        "id": "umiHioXjBkXM",
        "outputId": "bdd1bd02-46e9-4b60-cb16-32c1a5e334f2"
      },
      "source": [
        "np1.nbytes\n",
        "# 원소 1개당 8byte 이므로 총 10개면 80byte"
      ],
      "execution_count": 15,
      "outputs": [
        {
          "output_type": "execute_result",
          "data": {
            "text/plain": [
              "80"
            ]
          },
          "metadata": {
            "tags": []
          },
          "execution_count": 15
        }
      ]
    },
    {
      "cell_type": "code",
      "metadata": {
        "colab": {
          "base_uri": "https://localhost:8080/"
        },
        "id": "cMOTxDuwCDtl",
        "outputId": "1ba79396-02c3-4532-a673-700f37003c8a"
      },
      "source": [
        "np1.itemsize"
      ],
      "execution_count": 16,
      "outputs": [
        {
          "output_type": "execute_result",
          "data": {
            "text/plain": [
              "8"
            ]
          },
          "metadata": {
            "tags": []
          },
          "execution_count": 16
        }
      ]
    },
    {
      "cell_type": "code",
      "metadata": {
        "id": "3Q1HgVPHCrSc"
      },
      "source": [
        "np2 = np.array(c) # 2차원"
      ],
      "execution_count": 17,
      "outputs": []
    },
    {
      "cell_type": "code",
      "metadata": {
        "colab": {
          "base_uri": "https://localhost:8080/"
        },
        "id": "KznR4QKHDJtU",
        "outputId": "0b7835a6-fa95-4d37-c493-d755efbd1484"
      },
      "source": [
        "np2.shape # 2차원\n",
        "# np2 array의 행과 열의 개수를 확인 (행=2, 열=3)"
      ],
      "execution_count": 18,
      "outputs": [
        {
          "output_type": "execute_result",
          "data": {
            "text/plain": [
              "(2, 3)"
            ]
          },
          "metadata": {
            "tags": []
          },
          "execution_count": 18
        }
      ]
    },
    {
      "cell_type": "code",
      "metadata": {
        "colab": {
          "base_uri": "https://localhost:8080/"
        },
        "id": "H81k2a3EDLoj",
        "outputId": "54db936a-4e0f-40e3-e20a-6a5b183489d5"
      },
      "source": [
        "np2"
      ],
      "execution_count": 19,
      "outputs": [
        {
          "output_type": "execute_result",
          "data": {
            "text/plain": [
              "array([[1, 2, 3],\n",
              "       [4, 5, 6]])"
            ]
          },
          "metadata": {
            "tags": []
          },
          "execution_count": 19
        }
      ]
    },
    {
      "cell_type": "code",
      "metadata": {
        "colab": {
          "base_uri": "https://localhost:8080/"
        },
        "id": "28eP03tjDPDG",
        "outputId": "e7953822-4430-452f-d4ca-96fb934f1eba"
      },
      "source": [
        "np2.nbytes"
      ],
      "execution_count": 20,
      "outputs": [
        {
          "output_type": "execute_result",
          "data": {
            "text/plain": [
              "48"
            ]
          },
          "metadata": {
            "tags": []
          },
          "execution_count": 20
        }
      ]
    },
    {
      "cell_type": "code",
      "metadata": {
        "colab": {
          "base_uri": "https://localhost:8080/"
        },
        "id": "7u7qA9xzDZxn",
        "outputId": "8cd89bcb-8bc5-47fe-be6f-a3fb708b5434"
      },
      "source": [
        "np2 + 10  # broadcasting 연산(여러 개를 가지고 연산)"
      ],
      "execution_count": 21,
      "outputs": [
        {
          "output_type": "execute_result",
          "data": {
            "text/plain": [
              "array([[11, 12, 13],\n",
              "       [14, 15, 16]])"
            ]
          },
          "metadata": {
            "tags": []
          },
          "execution_count": 21
        }
      ]
    },
    {
      "cell_type": "code",
      "metadata": {
        "colab": {
          "base_uri": "https://localhost:8080/"
        },
        "id": "5VJPeFGQD5U9",
        "outputId": "1928b02d-679e-4433-b880-547dc173f10d"
      },
      "source": [
        "np2.T\n",
        "# 테이블의 행과 열을 맞바꿈"
      ],
      "execution_count": 22,
      "outputs": [
        {
          "output_type": "execute_result",
          "data": {
            "text/plain": [
              "array([[1, 4],\n",
              "       [2, 5],\n",
              "       [3, 6]])"
            ]
          },
          "metadata": {
            "tags": []
          },
          "execution_count": 22
        }
      ]
    },
    {
      "cell_type": "code",
      "metadata": {
        "colab": {
          "base_uri": "https://localhost:8080/"
        },
        "id": "gS4jadzBKl2G",
        "outputId": "7f05a735-9759-418f-ed07-157e25efe4cc"
      },
      "source": [
        "np2.sum()"
      ],
      "execution_count": 25,
      "outputs": [
        {
          "output_type": "execute_result",
          "data": {
            "text/plain": [
              "21"
            ]
          },
          "metadata": {
            "tags": []
          },
          "execution_count": 25
        }
      ]
    },
    {
      "cell_type": "code",
      "metadata": {
        "colab": {
          "base_uri": "https://localhost:8080/"
        },
        "id": "4krP5SFMD_gE",
        "outputId": "e5444739-2bb7-493d-cefb-85e560fdaa78"
      },
      "source": [
        "np2.sum(axis=0)  # 열(I)끼리 더함"
      ],
      "execution_count": 23,
      "outputs": [
        {
          "output_type": "execute_result",
          "data": {
            "text/plain": [
              "array([5, 7, 9])"
            ]
          },
          "metadata": {
            "tags": []
          },
          "execution_count": 23
        }
      ]
    },
    {
      "cell_type": "code",
      "metadata": {
        "colab": {
          "base_uri": "https://localhost:8080/"
        },
        "id": "VNGY6UoaKhnV",
        "outputId": "25b86d7a-7f08-4485-c395-bbf6f79768f2"
      },
      "source": [
        "np2.sum(axis=1)  # 행(J)끼리 더함 "
      ],
      "execution_count": 24,
      "outputs": [
        {
          "output_type": "execute_result",
          "data": {
            "text/plain": [
              "array([ 6, 15])"
            ]
          },
          "metadata": {
            "tags": []
          },
          "execution_count": 24
        }
      ]
    },
    {
      "cell_type": "code",
      "metadata": {
        "id": "EnpJWTBKK0nN"
      },
      "source": [
        "tt1 = [i for i in range(2, 21, 2)]\n",
        "tt2 = [i*3 for i in range(1, 11)]\n",
        "tt3 = [i for i in range(5, 51, 5)]"
      ],
      "execution_count": 30,
      "outputs": []
    },
    {
      "cell_type": "code",
      "metadata": {
        "colab": {
          "base_uri": "https://localhost:8080/"
        },
        "id": "CIcW_akqMHOC",
        "outputId": "7e479dc8-385d-41ef-8a2d-e99e41fcb15d"
      },
      "source": [
        "tt1, tt2, tt3"
      ],
      "execution_count": 31,
      "outputs": [
        {
          "output_type": "execute_result",
          "data": {
            "text/plain": [
              "([2, 4, 6, 8, 10, 12, 14, 16, 18, 20],\n",
              " [3, 6, 9, 12, 15, 18, 21, 24, 27, 30],\n",
              " [5, 10, 15, 20, 25, 30, 35, 40, 45, 50])"
            ]
          },
          "metadata": {
            "tags": []
          },
          "execution_count": 31
        }
      ]
    },
    {
      "cell_type": "code",
      "metadata": {
        "id": "FPMFPQZaN6-B"
      },
      "source": [
        "ttt = [tt1, tt2, tt3]\n",
        "np22 = np.array(ttt)"
      ],
      "execution_count": 32,
      "outputs": []
    },
    {
      "cell_type": "code",
      "metadata": {
        "colab": {
          "base_uri": "https://localhost:8080/"
        },
        "id": "JXknw_pmOLld",
        "outputId": "3aaecafa-c6f5-4beb-b585-fa579d1ebbd0"
      },
      "source": [
        "np22"
      ],
      "execution_count": 44,
      "outputs": [
        {
          "output_type": "execute_result",
          "data": {
            "text/plain": [
              "array([[ 2,  4,  6,  8, 10, 12, 14, 16, 18, 20],\n",
              "       [ 3,  6,  9, 12, 15, 18, 21, 24, 27, 30],\n",
              "       [ 5, 10, 15, 20, 25, 30, 35, 40, 45, 50]])"
            ]
          },
          "metadata": {
            "tags": []
          },
          "execution_count": 44
        }
      ]
    },
    {
      "cell_type": "code",
      "metadata": {
        "colab": {
          "base_uri": "https://localhost:8080/"
        },
        "id": "21LxmClfONoI",
        "outputId": "f250a76c-7d32-44e7-b403-864109efd244"
      },
      "source": [
        "type(ttt), type(np22)"
      ],
      "execution_count": 43,
      "outputs": [
        {
          "output_type": "execute_result",
          "data": {
            "text/plain": [
              "(list, numpy.ndarray)"
            ]
          },
          "metadata": {
            "tags": []
          },
          "execution_count": 43
        }
      ]
    },
    {
      "cell_type": "code",
      "metadata": {
        "colab": {
          "base_uri": "https://localhost:8080/"
        },
        "id": "4Fsy3hjwOioQ",
        "outputId": "fb191f52-c0e0-4ac4-c7dd-d179cd59d1ae"
      },
      "source": [
        "np22.sum(), np22[0].sum(), np22[1].sum(), np22[2].sum()"
      ],
      "execution_count": 42,
      "outputs": [
        {
          "output_type": "execute_result",
          "data": {
            "text/plain": [
              "(550, 110, 165, 275)"
            ]
          },
          "metadata": {
            "tags": []
          },
          "execution_count": 42
        }
      ]
    },
    {
      "cell_type": "code",
      "metadata": {
        "colab": {
          "base_uri": "https://localhost:8080/"
        },
        "id": "rFAaR3ZjOm_X",
        "outputId": "00b7fc76-fd0c-458a-8529-b5b15b39764f"
      },
      "source": [
        "np22.sum(axis=1)"
      ],
      "execution_count": 39,
      "outputs": [
        {
          "output_type": "execute_result",
          "data": {
            "text/plain": [
              "array([110, 165, 275])"
            ]
          },
          "metadata": {
            "tags": []
          },
          "execution_count": 39
        }
      ]
    },
    {
      "cell_type": "code",
      "metadata": {
        "colab": {
          "base_uri": "https://localhost:8080/"
        },
        "id": "4bUhJLSzO29b",
        "outputId": "726487b3-97f2-437f-9f2d-b93f0c445c63"
      },
      "source": [
        "np22.mean(axis=1), np22.mean(axis=0)"
      ],
      "execution_count": 45,
      "outputs": [
        {
          "output_type": "execute_result",
          "data": {
            "text/plain": [
              "(array([11. , 16.5, 27.5]),\n",
              " array([ 3.33333333,  6.66666667, 10.        , 13.33333333, 16.66666667,\n",
              "        20.        , 23.33333333, 26.66666667, 30.        , 33.33333333]))"
            ]
          },
          "metadata": {
            "tags": []
          },
          "execution_count": 45
        }
      ]
    },
    {
      "cell_type": "code",
      "metadata": {
        "colab": {
          "base_uri": "https://localhost:8080/"
        },
        "id": "rcKLzVRNQa09",
        "outputId": "5724612c-881e-4574-8ab5-17ad3ead4918"
      },
      "source": [
        "np23 = np22.T\n",
        "np23"
      ],
      "execution_count": 46,
      "outputs": [
        {
          "output_type": "execute_result",
          "data": {
            "text/plain": [
              "array([[ 2,  3,  5],\n",
              "       [ 4,  6, 10],\n",
              "       [ 6,  9, 15],\n",
              "       [ 8, 12, 20],\n",
              "       [10, 15, 25],\n",
              "       [12, 18, 30],\n",
              "       [14, 21, 35],\n",
              "       [16, 24, 40],\n",
              "       [18, 27, 45],\n",
              "       [20, 30, 50]])"
            ]
          },
          "metadata": {
            "tags": []
          },
          "execution_count": 46
        }
      ]
    },
    {
      "cell_type": "code",
      "metadata": {
        "colab": {
          "base_uri": "https://localhost:8080/"
        },
        "id": "nSuRc7oGQsOR",
        "outputId": "26e628f7-5bce-4e4f-d773-605ecb41fa5b"
      },
      "source": [
        "np23.min(), np23.max()"
      ],
      "execution_count": 47,
      "outputs": [
        {
          "output_type": "execute_result",
          "data": {
            "text/plain": [
              "(2, 50)"
            ]
          },
          "metadata": {
            "tags": []
          },
          "execution_count": 47
        }
      ]
    },
    {
      "cell_type": "code",
      "metadata": {
        "colab": {
          "base_uri": "https://localhost:8080/"
        },
        "id": "xCDWfsjMQv2f",
        "outputId": "857255ed-b52c-43e4-d1e7-929640b82a7a"
      },
      "source": [
        "np23.min(axis=1), np23.max(axis=0)"
      ],
      "execution_count": 48,
      "outputs": [
        {
          "output_type": "execute_result",
          "data": {
            "text/plain": [
              "(array([ 2,  4,  6,  8, 10, 12, 14, 16, 18, 20]), array([20, 30, 50]))"
            ]
          },
          "metadata": {
            "tags": []
          },
          "execution_count": 48
        }
      ]
    },
    {
      "cell_type": "code",
      "metadata": {
        "colab": {
          "base_uri": "https://localhost:8080/"
        },
        "id": "9I92LdHjRHaF",
        "outputId": "0edab6f0-1965-461d-abe4-fb1e4ccde5a3"
      },
      "source": [
        "np23.shape, np23.reshape(2, 15)"
      ],
      "execution_count": 50,
      "outputs": [
        {
          "output_type": "execute_result",
          "data": {
            "text/plain": [
              "((10, 3), array([[ 2,  3,  5,  4,  6, 10,  6,  9, 15,  8, 12, 20, 10, 15, 25],\n",
              "        [12, 18, 30, 14, 21, 35, 16, 24, 40, 18, 27, 45, 20, 30, 50]]))"
            ]
          },
          "metadata": {
            "tags": []
          },
          "execution_count": 50
        }
      ]
    },
    {
      "cell_type": "code",
      "metadata": {
        "colab": {
          "base_uri": "https://localhost:8080/",
          "height": 175
        },
        "id": "SGQonk7jSPb2",
        "outputId": "45874225-dbc9-44f2-fc48-9b8071190047"
      },
      "source": [
        "np23.reshape(2, 20)"
      ],
      "execution_count": 51,
      "outputs": [
        {
          "output_type": "error",
          "ename": "ValueError",
          "evalue": "ignored",
          "traceback": [
            "\u001b[0;31m---------------------------------------------------------------------------\u001b[0m",
            "\u001b[0;31mValueError\u001b[0m                                Traceback (most recent call last)",
            "\u001b[0;32m<ipython-input-51-2eda8aba42cd>\u001b[0m in \u001b[0;36m<module>\u001b[0;34m()\u001b[0m\n\u001b[0;32m----> 1\u001b[0;31m \u001b[0mnp23\u001b[0m\u001b[0;34m.\u001b[0m\u001b[0mreshape\u001b[0m\u001b[0;34m(\u001b[0m\u001b[0;36m2\u001b[0m\u001b[0;34m,\u001b[0m \u001b[0;36m20\u001b[0m\u001b[0;34m)\u001b[0m\u001b[0;34m\u001b[0m\u001b[0;34m\u001b[0m\u001b[0m\n\u001b[0m",
            "\u001b[0;31mValueError\u001b[0m: cannot reshape array of size 30 into shape (2,20)"
          ]
        }
      ]
    },
    {
      "cell_type": "code",
      "metadata": {
        "id": "PBwEcPZGSfHx"
      },
      "source": [
        "np24 = np.array([i for i in range(1, 25)])"
      ],
      "execution_count": 53,
      "outputs": []
    },
    {
      "cell_type": "code",
      "metadata": {
        "colab": {
          "base_uri": "https://localhost:8080/"
        },
        "id": "0EcfhnUkSytQ",
        "outputId": "e9e980d9-6a4c-403c-c4d6-98e1c40b0ec7"
      },
      "source": [
        "np24.reshape(3, 8), np24.reshape(4, 6)"
      ],
      "execution_count": 56,
      "outputs": [
        {
          "output_type": "execute_result",
          "data": {
            "text/plain": [
              "(array([[ 1,  2,  3,  4,  5,  6,  7,  8],\n",
              "        [ 9, 10, 11, 12, 13, 14, 15, 16],\n",
              "        [17, 18, 19, 20, 21, 22, 23, 24]]), array([[ 1,  2,  3,  4,  5,  6],\n",
              "        [ 7,  8,  9, 10, 11, 12],\n",
              "        [13, 14, 15, 16, 17, 18],\n",
              "        [19, 20, 21, 22, 23, 24]]))"
            ]
          },
          "metadata": {
            "tags": []
          },
          "execution_count": 56
        }
      ]
    },
    {
      "cell_type": "code",
      "metadata": {
        "colab": {
          "base_uri": "https://localhost:8080/"
        },
        "id": "23eUWxHvTB1-",
        "outputId": "702b5b4d-6e92-463c-be46-84decbd1484f"
      },
      "source": [
        "np11 = np.array([2, 4, 6, 8, 10])\n",
        "np11.dtype  # 64bit"
      ],
      "execution_count": 61,
      "outputs": [
        {
          "output_type": "execute_result",
          "data": {
            "text/plain": [
              "dtype('int64')"
            ]
          },
          "metadata": {
            "tags": []
          },
          "execution_count": 61
        }
      ]
    },
    {
      "cell_type": "code",
      "metadata": {
        "colab": {
          "base_uri": "https://localhost:8080/"
        },
        "id": "78NplL5tUAie",
        "outputId": "f77c4fbc-0799-4cc1-b27e-672a18924abf"
      },
      "source": [
        "np12 = np.array([2, 4, 6, 8, 10], dtype = np.int16)\n",
        "np12.dtype  # 16bit"
      ],
      "execution_count": 62,
      "outputs": [
        {
          "output_type": "execute_result",
          "data": {
            "text/plain": [
              "dtype('int16')"
            ]
          },
          "metadata": {
            "tags": []
          },
          "execution_count": 62
        }
      ]
    },
    {
      "cell_type": "code",
      "metadata": {
        "colab": {
          "base_uri": "https://localhost:8080/"
        },
        "id": "fTgvSI9FUwhI",
        "outputId": "7f032733-1e57-4147-83b6-76cea456901a"
      },
      "source": [
        "np11.itemsize, np12.itemsize, np11.nbytes , np12.nbytes\n",
        "# 64bit=8byte, 16bit=2byte -> itemsize(원소 하나당 사이즈)\n",
        "# 각각 원소가 5개씩이므로 nbytes는 각각 40, 10byte"
      ],
      "execution_count": 94,
      "outputs": [
        {
          "output_type": "execute_result",
          "data": {
            "text/plain": [
              "(8, 2, 40, 10)"
            ]
          },
          "metadata": {
            "tags": []
          },
          "execution_count": 94
        }
      ]
    },
    {
      "cell_type": "code",
      "metadata": {
        "colab": {
          "base_uri": "https://localhost:8080/"
        },
        "id": "Nvrodv-mVIfT",
        "outputId": "7d2746e5-7aae-4358-d5bb-844059d3c75f"
      },
      "source": [
        "np200 = np.array([2.3, 4.5, 6.7])\n",
        "np200.dtype, np200.nbytes"
      ],
      "execution_count": 65,
      "outputs": [
        {
          "output_type": "execute_result",
          "data": {
            "text/plain": [
              "(dtype('float64'), 24)"
            ]
          },
          "metadata": {
            "tags": []
          },
          "execution_count": 65
        }
      ]
    },
    {
      "cell_type": "code",
      "metadata": {
        "colab": {
          "base_uri": "https://localhost:8080/"
        },
        "id": "HMWM0WlOafqY",
        "outputId": "7e368adc-6f10-4411-e319-6b3b1a88e76e"
      },
      "source": [
        "np201 = np.array([2.3, 4.5, 6.7], dtype = np.float16)\n",
        "np201.nbytes  # 16bit=2byte, 원소가 3개라 총 6byte"
      ],
      "execution_count": 66,
      "outputs": [
        {
          "output_type": "execute_result",
          "data": {
            "text/plain": [
              "6"
            ]
          },
          "metadata": {
            "tags": []
          },
          "execution_count": 66
        }
      ]
    },
    {
      "cell_type": "code",
      "metadata": {
        "id": "dIuvON-oa8G0"
      },
      "source": [
        "np13 = np.array([2, 4, 5], dtype='uint')  # u -> unsigned, uint -> 양수로만 값을 매김"
      ],
      "execution_count": 67,
      "outputs": []
    },
    {
      "cell_type": "code",
      "metadata": {
        "colab": {
          "base_uri": "https://localhost:8080/"
        },
        "id": "FGOVsprgbSbH",
        "outputId": "389699a5-be29-442c-a38a-d862c40154e7"
      },
      "source": [
        "np.empty([2, 5])"
      ],
      "execution_count": 68,
      "outputs": [
        {
          "output_type": "execute_result",
          "data": {
            "text/plain": [
              "array([[ 3.33333333,  6.66666667, 10.        , 13.33333333, 16.66666667],\n",
              "       [20.        , 23.33333333, 26.66666667, 30.        , 33.33333333]])"
            ]
          },
          "metadata": {
            "tags": []
          },
          "execution_count": 68
        }
      ]
    },
    {
      "cell_type": "code",
      "metadata": {
        "colab": {
          "base_uri": "https://localhost:8080/"
        },
        "id": "Whu9aFHIbyHN",
        "outputId": "e653b68f-0df1-42db-bae8-5029c0068c6c"
      },
      "source": [
        "np.empty([7, 2])"
      ],
      "execution_count": 69,
      "outputs": [
        {
          "output_type": "execute_result",
          "data": {
            "text/plain": [
              "array([[4.64863235e-310, 0.00000000e+000],\n",
              "       [0.00000000e+000, 0.00000000e+000],\n",
              "       [0.00000000e+000, 0.00000000e+000],\n",
              "       [0.00000000e+000, 0.00000000e+000],\n",
              "       [0.00000000e+000, 0.00000000e+000],\n",
              "       [0.00000000e+000, 0.00000000e+000],\n",
              "       [0.00000000e+000, 2.61354267e-306]])"
            ]
          },
          "metadata": {
            "tags": []
          },
          "execution_count": 69
        }
      ]
    },
    {
      "cell_type": "code",
      "metadata": {
        "colab": {
          "base_uri": "https://localhost:8080/"
        },
        "id": "-kdl5uZtb7SU",
        "outputId": "26811c61-a62c-4c67-d1f2-1804fb52ef8c"
      },
      "source": [
        "np.zeros([3, 4]), np.ones([3, 4])"
      ],
      "execution_count": 70,
      "outputs": [
        {
          "output_type": "execute_result",
          "data": {
            "text/plain": [
              "(array([[0., 0., 0., 0.],\n",
              "        [0., 0., 0., 0.],\n",
              "        [0., 0., 0., 0.]]), array([[1., 1., 1., 1.],\n",
              "        [1., 1., 1., 1.],\n",
              "        [1., 1., 1., 1.]]))"
            ]
          },
          "metadata": {
            "tags": []
          },
          "execution_count": 70
        }
      ]
    },
    {
      "cell_type": "code",
      "metadata": {
        "colab": {
          "base_uri": "https://localhost:8080/"
        },
        "id": "f55dtZBNcCv1",
        "outputId": "e7367eae-4fae-4fa4-82bb-85ab393827ff"
      },
      "source": [
        "np.arange(6), np.arange(1, 20, 2)"
      ],
      "execution_count": 72,
      "outputs": [
        {
          "output_type": "execute_result",
          "data": {
            "text/plain": [
              "(array([0, 1, 2, 3, 4, 5]), array([ 1,  3,  5,  7,  9, 11, 13, 15, 17, 19]))"
            ]
          },
          "metadata": {
            "tags": []
          },
          "execution_count": 72
        }
      ]
    },
    {
      "cell_type": "code",
      "metadata": {
        "colab": {
          "base_uri": "https://localhost:8080/"
        },
        "id": "SNBX8WddjI5r",
        "outputId": "9335a075-a658-4e58-eac5-89f18667087d"
      },
      "source": [
        "gdan2 = [i*2 for i in range(1, 10)]\n",
        "gdan2"
      ],
      "execution_count": 77,
      "outputs": [
        {
          "output_type": "execute_result",
          "data": {
            "text/plain": [
              "[2, 4, 6, 8, 10, 12, 14, 16, 18]"
            ]
          },
          "metadata": {
            "tags": []
          },
          "execution_count": 77
        }
      ]
    },
    {
      "cell_type": "code",
      "metadata": {
        "id": "-oOuO0sPjkQX"
      },
      "source": [
        "gdan3 = [i*3 for i in range(1, 10)]\n",
        "gdan4 = [i*4 for i in range(1, 10)]\n",
        "gdan5 = [i*5 for i in range(1, 10)]\n",
        "gdan6 = [i*6 for i in range(1, 10)]\n",
        "gdan7 = [i*7 for i in range(1, 10)]\n",
        "gdan8 = [i*8 for i in range(1, 10)]\n",
        "gdan9 = [i*9 for i in range(1, 10)]\n",
        "gdan0 = [gdan2,gdan3, gdan4, gdan5, gdan6,gdan7,gdan8,gdan9]"
      ],
      "execution_count": 79,
      "outputs": []
    },
    {
      "cell_type": "code",
      "metadata": {
        "id": "qbr95kTDlCXf"
      },
      "source": [
        "gdan=np.array([gdan0], dtype=np.int16)"
      ],
      "execution_count": 81,
      "outputs": []
    },
    {
      "cell_type": "code",
      "metadata": {
        "colab": {
          "base_uri": "https://localhost:8080/"
        },
        "id": "MhOHAHfplXxp",
        "outputId": "cc9b1d40-fd34-4d31-f8ed-bc2d2270a4e8"
      },
      "source": [
        "gdan"
      ],
      "execution_count": 82,
      "outputs": [
        {
          "output_type": "execute_result",
          "data": {
            "text/plain": [
              "array([[[ 2,  4,  6,  8, 10, 12, 14, 16, 18],\n",
              "        [ 3,  6,  9, 12, 15, 18, 21, 24, 27],\n",
              "        [ 4,  8, 12, 16, 20, 24, 28, 32, 36],\n",
              "        [ 5, 10, 15, 20, 25, 30, 35, 40, 45],\n",
              "        [ 6, 12, 18, 24, 30, 36, 42, 48, 54],\n",
              "        [ 7, 14, 21, 28, 35, 42, 49, 56, 63],\n",
              "        [ 8, 16, 24, 32, 40, 48, 56, 64, 72],\n",
              "        [ 9, 18, 27, 36, 45, 54, 63, 72, 81]]], dtype=int16)"
            ]
          },
          "metadata": {
            "tags": []
          },
          "execution_count": 82
        }
      ]
    },
    {
      "cell_type": "code",
      "metadata": {
        "colab": {
          "base_uri": "https://localhost:8080/"
        },
        "id": "4q5ZB2zvlhEw",
        "outputId": "f4360c15-c799-4cf4-cf4d-56ba901f8a16"
      },
      "source": [
        "gdan[:,1] + 50  # 1행을 추출해서 +50 계산  (열 추출: [1,:])"
      ],
      "execution_count": 85,
      "outputs": [
        {
          "output_type": "execute_result",
          "data": {
            "text/plain": [
              "array([[53, 56, 59, 62, 65, 68, 71, 74, 77]], dtype=int16)"
            ]
          },
          "metadata": {
            "tags": []
          },
          "execution_count": 85
        }
      ]
    },
    {
      "cell_type": "code",
      "metadata": {
        "colab": {
          "base_uri": "https://localhost:8080/"
        },
        "id": "D7QRqEYQmHqr",
        "outputId": "b367fb70-9bff-4c00-9334-5bc62b67e82e"
      },
      "source": [
        "gdan[:,3] * 100"
      ],
      "execution_count": 88,
      "outputs": [
        {
          "output_type": "execute_result",
          "data": {
            "text/plain": [
              "array([[ 500, 1000, 1500, 2000, 2500, 3000, 3500, 4000, 4500]],\n",
              "      dtype=int16)"
            ]
          },
          "metadata": {
            "tags": []
          },
          "execution_count": 88
        }
      ]
    },
    {
      "cell_type": "code",
      "metadata": {
        "colab": {
          "base_uri": "https://localhost:8080/"
        },
        "id": "GHM6S9TTmhvM",
        "outputId": "d40d2dd4-94f0-44a5-d1b0-8870fdc220bd"
      },
      "source": [
        "gdan.reshape(3,24)"
      ],
      "execution_count": 95,
      "outputs": [
        {
          "output_type": "execute_result",
          "data": {
            "text/plain": [
              "array([[ 2,  4,  6,  8, 10, 12, 14, 16, 18,  3,  6,  9, 12, 15, 18, 21,\n",
              "        24, 27,  4,  8, 12, 16, 20, 24],\n",
              "       [28, 32, 36,  5, 10, 15, 20, 25, 30, 35, 40, 45,  6, 12, 18, 24,\n",
              "        30, 36, 42, 48, 54,  7, 14, 21],\n",
              "       [28, 35, 42, 49, 56, 63,  8, 16, 24, 32, 40, 48, 56, 64, 72,  9,\n",
              "        18, 27, 36, 45, 54, 63, 72, 81]], dtype=int16)"
            ]
          },
          "metadata": {
            "tags": []
          },
          "execution_count": 95
        }
      ]
    },
    {
      "cell_type": "code",
      "metadata": {
        "colab": {
          "base_uri": "https://localhost:8080/"
        },
        "id": "2JAN936D-PbJ",
        "outputId": "28add9f0-3c98-4711-fc59-d3d9fdeac73d"
      },
      "source": [
        "import numpy as np\n",
        "gdan = [[x, y, x*y] for x in range(2,10) for y in range(1,10)]\n",
        "ngdan = np.array(gdan, dtype = np.int16)\n",
        "ngdan"
      ],
      "execution_count": 96,
      "outputs": [
        {
          "output_type": "execute_result",
          "data": {
            "text/plain": [
              "array([[ 2,  1,  2],\n",
              "       [ 2,  2,  4],\n",
              "       [ 2,  3,  6],\n",
              "       [ 2,  4,  8],\n",
              "       [ 2,  5, 10],\n",
              "       [ 2,  6, 12],\n",
              "       [ 2,  7, 14],\n",
              "       [ 2,  8, 16],\n",
              "       [ 2,  9, 18],\n",
              "       [ 3,  1,  3],\n",
              "       [ 3,  2,  6],\n",
              "       [ 3,  3,  9],\n",
              "       [ 3,  4, 12],\n",
              "       [ 3,  5, 15],\n",
              "       [ 3,  6, 18],\n",
              "       [ 3,  7, 21],\n",
              "       [ 3,  8, 24],\n",
              "       [ 3,  9, 27],\n",
              "       [ 4,  1,  4],\n",
              "       [ 4,  2,  8],\n",
              "       [ 4,  3, 12],\n",
              "       [ 4,  4, 16],\n",
              "       [ 4,  5, 20],\n",
              "       [ 4,  6, 24],\n",
              "       [ 4,  7, 28],\n",
              "       [ 4,  8, 32],\n",
              "       [ 4,  9, 36],\n",
              "       [ 5,  1,  5],\n",
              "       [ 5,  2, 10],\n",
              "       [ 5,  3, 15],\n",
              "       [ 5,  4, 20],\n",
              "       [ 5,  5, 25],\n",
              "       [ 5,  6, 30],\n",
              "       [ 5,  7, 35],\n",
              "       [ 5,  8, 40],\n",
              "       [ 5,  9, 45],\n",
              "       [ 6,  1,  6],\n",
              "       [ 6,  2, 12],\n",
              "       [ 6,  3, 18],\n",
              "       [ 6,  4, 24],\n",
              "       [ 6,  5, 30],\n",
              "       [ 6,  6, 36],\n",
              "       [ 6,  7, 42],\n",
              "       [ 6,  8, 48],\n",
              "       [ 6,  9, 54],\n",
              "       [ 7,  1,  7],\n",
              "       [ 7,  2, 14],\n",
              "       [ 7,  3, 21],\n",
              "       [ 7,  4, 28],\n",
              "       [ 7,  5, 35],\n",
              "       [ 7,  6, 42],\n",
              "       [ 7,  7, 49],\n",
              "       [ 7,  8, 56],\n",
              "       [ 7,  9, 63],\n",
              "       [ 8,  1,  8],\n",
              "       [ 8,  2, 16],\n",
              "       [ 8,  3, 24],\n",
              "       [ 8,  4, 32],\n",
              "       [ 8,  5, 40],\n",
              "       [ 8,  6, 48],\n",
              "       [ 8,  7, 56],\n",
              "       [ 8,  8, 64],\n",
              "       [ 8,  9, 72],\n",
              "       [ 9,  1,  9],\n",
              "       [ 9,  2, 18],\n",
              "       [ 9,  3, 27],\n",
              "       [ 9,  4, 36],\n",
              "       [ 9,  5, 45],\n",
              "       [ 9,  6, 54],\n",
              "       [ 9,  7, 63],\n",
              "       [ 9,  8, 72],\n",
              "       [ 9,  9, 81]], dtype=int16)"
            ]
          },
          "metadata": {
            "tags": []
          },
          "execution_count": 96
        }
      ]
    },
    {
      "cell_type": "code",
      "metadata": {
        "colab": {
          "base_uri": "https://localhost:8080/"
        },
        "id": "VPl1vbIG-Zzl",
        "outputId": "1cc6a3d1-1cce-492f-ae70-605c0d5e58df"
      },
      "source": [
        "ngdan[9:18,]"
      ],
      "execution_count": 97,
      "outputs": [
        {
          "output_type": "execute_result",
          "data": {
            "text/plain": [
              "array([[ 3,  1,  3],\n",
              "       [ 3,  2,  6],\n",
              "       [ 3,  3,  9],\n",
              "       [ 3,  4, 12],\n",
              "       [ 3,  5, 15],\n",
              "       [ 3,  6, 18],\n",
              "       [ 3,  7, 21],\n",
              "       [ 3,  8, 24],\n",
              "       [ 3,  9, 27]], dtype=int16)"
            ]
          },
          "metadata": {
            "tags": []
          },
          "execution_count": 97
        }
      ]
    },
    {
      "cell_type": "code",
      "metadata": {
        "colab": {
          "base_uri": "https://localhost:8080/"
        },
        "id": "bKyroeKl-srm",
        "outputId": "c4afb1a3-a167-45c2-a38b-b280b47465df"
      },
      "source": [
        "ngdan[9:18, 2] = ngdan[9:18, 2] + 50\n",
        "ngdan[9:18,]"
      ],
      "execution_count": 100,
      "outputs": [
        {
          "output_type": "execute_result",
          "data": {
            "text/plain": [
              "array([[ 3,  1, 53],\n",
              "       [ 3,  2, 56],\n",
              "       [ 3,  3, 59],\n",
              "       [ 3,  4, 62],\n",
              "       [ 3,  5, 65],\n",
              "       [ 3,  6, 68],\n",
              "       [ 3,  7, 71],\n",
              "       [ 3,  8, 74],\n",
              "       [ 3,  9, 77]], dtype=int16)"
            ]
          },
          "metadata": {
            "tags": []
          },
          "execution_count": 100
        }
      ]
    },
    {
      "cell_type": "code",
      "metadata": {
        "colab": {
          "base_uri": "https://localhost:8080/"
        },
        "id": "iZGyZwxT_Hqi",
        "outputId": "70b79d70-fd8b-4c30-c185-82660bbf9800"
      },
      "source": [
        "ngdan[27:36, 2] = ngdan[27:36, 2] * 100\n",
        "ngdan[27:36,]"
      ],
      "execution_count": 101,
      "outputs": [
        {
          "output_type": "execute_result",
          "data": {
            "text/plain": [
              "array([[   5,    1,  500],\n",
              "       [   5,    2, 1000],\n",
              "       [   5,    3, 1500],\n",
              "       [   5,    4, 2000],\n",
              "       [   5,    5, 2500],\n",
              "       [   5,    6, 3000],\n",
              "       [   5,    7, 3500],\n",
              "       [   5,    8, 4000],\n",
              "       [   5,    9, 4500]], dtype=int16)"
            ]
          },
          "metadata": {
            "tags": []
          },
          "execution_count": 101
        }
      ]
    }
  ]
}