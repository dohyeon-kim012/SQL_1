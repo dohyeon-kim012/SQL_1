{
  "nbformat": 4,
  "nbformat_minor": 0,
  "metadata": {
    "colab": {
      "name": "Numpy_learning.ipynb",
      "provenance": [],
      "authorship_tag": "ABX9TyNYIUC0Y/1ul7wIeiCmjjT2",
      "include_colab_link": true
    },
    "kernelspec": {
      "name": "python3",
      "display_name": "Python 3"
    },
    "language_info": {
      "name": "python"
    }
  },
  "cells": [
    {
      "cell_type": "markdown",
      "metadata": {
        "id": "view-in-github",
        "colab_type": "text"
      },
      "source": [
        "<a href=\"https://colab.research.google.com/github/dohyeon-kim012/SQL_1/blob/main/Numpy_learning.ipynb\" target=\"_parent\"><img src=\"https://colab.research.google.com/assets/colab-badge.svg\" alt=\"Open In Colab\"/></a>"
      ]
    },
    {
      "cell_type": "code",
      "metadata": {
        "id": "5Ocdq1zW5ZbQ"
      },
      "source": [
        "import numpy as np\n",
        "import pandas as pd"
      ],
      "execution_count": 2,
      "outputs": []
    },
    {
      "cell_type": "code",
      "metadata": {
        "id": "MBo7IAPW5zoq"
      },
      "source": [
        "t = [ i * 3 for i in range(1, 11)]"
      ],
      "execution_count": 3,
      "outputs": []
    },
    {
      "cell_type": "code",
      "metadata": {
        "id": "oBw5F2Iv90DX"
      },
      "source": [
        "a = [1, 2, 3]\n",
        "b = [4, 5, 6]\n",
        "c = [a, b]"
      ],
      "execution_count": 5,
      "outputs": []
    },
    {
      "cell_type": "code",
      "metadata": {
        "id": "8F2laHoz9xmu"
      },
      "source": [
        "np1 = np.array(t) # 1차원"
      ],
      "execution_count": 4,
      "outputs": []
    },
    {
      "cell_type": "code",
      "metadata": {
        "colab": {
          "base_uri": "https://localhost:8080/"
        },
        "id": "Mqs4quiz95Bh",
        "outputId": "e2e33e21-a64e-492d-d1bb-9e375db5c4aa"
      },
      "source": [
        "type(np1)"
      ],
      "execution_count": 6,
      "outputs": [
        {
          "output_type": "execute_result",
          "data": {
            "text/plain": [
              "numpy.ndarray"
            ]
          },
          "metadata": {
            "tags": []
          },
          "execution_count": 6
        }
      ]
    },
    {
      "cell_type": "code",
      "metadata": {
        "colab": {
          "base_uri": "https://localhost:8080/"
        },
        "id": "-7fAiUeO-HxR",
        "outputId": "7c185a6f-9662-4c69-f587-ed96c70e714e"
      },
      "source": [
        "np1"
      ],
      "execution_count": 7,
      "outputs": [
        {
          "output_type": "execute_result",
          "data": {
            "text/plain": [
              "array([ 3,  6,  9, 12, 15, 18, 21, 24, 27, 30])"
            ]
          },
          "metadata": {
            "tags": []
          },
          "execution_count": 7
        }
      ]
    },
    {
      "cell_type": "code",
      "metadata": {
        "colab": {
          "base_uri": "https://localhost:8080/"
        },
        "id": "qizkc-wt-MeD",
        "outputId": "c6c9b6c6-033a-4632-a96b-4e33b3fdd09e"
      },
      "source": [
        "np1 + 1"
      ],
      "execution_count": 8,
      "outputs": [
        {
          "output_type": "execute_result",
          "data": {
            "text/plain": [
              "array([ 4,  7, 10, 13, 16, 19, 22, 25, 28, 31])"
            ]
          },
          "metadata": {
            "tags": []
          },
          "execution_count": 8
        }
      ]
    },
    {
      "cell_type": "code",
      "metadata": {
        "colab": {
          "base_uri": "https://localhost:8080/"
        },
        "id": "Z3RV1N9t-zan",
        "outputId": "f2c964bb-006e-47f0-d189-666e44af7929"
      },
      "source": [
        "np1.dtype\n",
        "# 파란색은 변수, 보라색은 함수"
      ],
      "execution_count": 11,
      "outputs": [
        {
          "output_type": "execute_result",
          "data": {
            "text/plain": [
              "dtype('int64')"
            ]
          },
          "metadata": {
            "tags": []
          },
          "execution_count": 11
        }
      ]
    },
    {
      "cell_type": "code",
      "metadata": {
        "colab": {
          "base_uri": "https://localhost:8080/"
        },
        "id": "-s5BgvpYAEgo",
        "outputId": "d352220e-03af-4065-c1d5-8f99213b99be"
      },
      "source": [
        "np1.shape # 1차원"
      ],
      "execution_count": 12,
      "outputs": [
        {
          "output_type": "execute_result",
          "data": {
            "text/plain": [
              "(10,)"
            ]
          },
          "metadata": {
            "tags": []
          },
          "execution_count": 12
        }
      ]
    },
    {
      "cell_type": "code",
      "metadata": {
        "colab": {
          "base_uri": "https://localhost:8080/"
        },
        "id": "PdIhO_6kBd-n",
        "outputId": "20ff7b9b-6850-4b21-c0c6-8347c4ce2f16"
      },
      "source": [
        "np1.mean()\n",
        "# np1 배열의 평균값 구함"
      ],
      "execution_count": 14,
      "outputs": [
        {
          "output_type": "execute_result",
          "data": {
            "text/plain": [
              "16.5"
            ]
          },
          "metadata": {
            "tags": []
          },
          "execution_count": 14
        }
      ]
    },
    {
      "cell_type": "code",
      "metadata": {
        "colab": {
          "base_uri": "https://localhost:8080/"
        },
        "id": "umiHioXjBkXM",
        "outputId": "bdd1bd02-46e9-4b60-cb16-32c1a5e334f2"
      },
      "source": [
        "np1.nbytes\n",
        "# 원소 1개당 8byte 이므로 총 10개면 80byte"
      ],
      "execution_count": 15,
      "outputs": [
        {
          "output_type": "execute_result",
          "data": {
            "text/plain": [
              "80"
            ]
          },
          "metadata": {
            "tags": []
          },
          "execution_count": 15
        }
      ]
    },
    {
      "cell_type": "code",
      "metadata": {
        "colab": {
          "base_uri": "https://localhost:8080/"
        },
        "id": "cMOTxDuwCDtl",
        "outputId": "1ba79396-02c3-4532-a673-700f37003c8a"
      },
      "source": [
        "np1.itemsize"
      ],
      "execution_count": 16,
      "outputs": [
        {
          "output_type": "execute_result",
          "data": {
            "text/plain": [
              "8"
            ]
          },
          "metadata": {
            "tags": []
          },
          "execution_count": 16
        }
      ]
    },
    {
      "cell_type": "code",
      "metadata": {
        "id": "3Q1HgVPHCrSc"
      },
      "source": [
        "np2 = np.array(c) # 2차원"
      ],
      "execution_count": 17,
      "outputs": []
    },
    {
      "cell_type": "code",
      "metadata": {
        "colab": {
          "base_uri": "https://localhost:8080/"
        },
        "id": "KznR4QKHDJtU",
        "outputId": "0b7835a6-fa95-4d37-c493-d755efbd1484"
      },
      "source": [
        "np2.shape # 2차원\n",
        "# np2 array의 행과 열의 개수를 확인 (행=2, 열=3)"
      ],
      "execution_count": 18,
      "outputs": [
        {
          "output_type": "execute_result",
          "data": {
            "text/plain": [
              "(2, 3)"
            ]
          },
          "metadata": {
            "tags": []
          },
          "execution_count": 18
        }
      ]
    },
    {
      "cell_type": "code",
      "metadata": {
        "colab": {
          "base_uri": "https://localhost:8080/"
        },
        "id": "H81k2a3EDLoj",
        "outputId": "54db936a-4e0f-40e3-e20a-6a5b183489d5"
      },
      "source": [
        "np2"
      ],
      "execution_count": 19,
      "outputs": [
        {
          "output_type": "execute_result",
          "data": {
            "text/plain": [
              "array([[1, 2, 3],\n",
              "       [4, 5, 6]])"
            ]
          },
          "metadata": {
            "tags": []
          },
          "execution_count": 19
        }
      ]
    },
    {
      "cell_type": "code",
      "metadata": {
        "colab": {
          "base_uri": "https://localhost:8080/"
        },
        "id": "28eP03tjDPDG",
        "outputId": "e7953822-4430-452f-d4ca-96fb934f1eba"
      },
      "source": [
        "np2.nbytes"
      ],
      "execution_count": 20,
      "outputs": [
        {
          "output_type": "execute_result",
          "data": {
            "text/plain": [
              "48"
            ]
          },
          "metadata": {
            "tags": []
          },
          "execution_count": 20
        }
      ]
    },
    {
      "cell_type": "code",
      "metadata": {
        "colab": {
          "base_uri": "https://localhost:8080/"
        },
        "id": "7u7qA9xzDZxn",
        "outputId": "8cd89bcb-8bc5-47fe-be6f-a3fb708b5434"
      },
      "source": [
        "np2 + 10"
      ],
      "execution_count": 21,
      "outputs": [
        {
          "output_type": "execute_result",
          "data": {
            "text/plain": [
              "array([[11, 12, 13],\n",
              "       [14, 15, 16]])"
            ]
          },
          "metadata": {
            "tags": []
          },
          "execution_count": 21
        }
      ]
    },
    {
      "cell_type": "code",
      "metadata": {
        "colab": {
          "base_uri": "https://localhost:8080/"
        },
        "id": "5VJPeFGQD5U9",
        "outputId": "1928b02d-679e-4433-b880-547dc173f10d"
      },
      "source": [
        "np2.T\n",
        "# 테이블의 행과 열을 맞바꿈"
      ],
      "execution_count": 22,
      "outputs": [
        {
          "output_type": "execute_result",
          "data": {
            "text/plain": [
              "array([[1, 4],\n",
              "       [2, 5],\n",
              "       [3, 6]])"
            ]
          },
          "metadata": {
            "tags": []
          },
          "execution_count": 22
        }
      ]
    },
    {
      "cell_type": "code",
      "metadata": {
        "colab": {
          "base_uri": "https://localhost:8080/"
        },
        "id": "gS4jadzBKl2G",
        "outputId": "7f05a735-9759-418f-ed07-157e25efe4cc"
      },
      "source": [
        "np2.sum()"
      ],
      "execution_count": 25,
      "outputs": [
        {
          "output_type": "execute_result",
          "data": {
            "text/plain": [
              "21"
            ]
          },
          "metadata": {
            "tags": []
          },
          "execution_count": 25
        }
      ]
    },
    {
      "cell_type": "code",
      "metadata": {
        "colab": {
          "base_uri": "https://localhost:8080/"
        },
        "id": "4krP5SFMD_gE",
        "outputId": "e5444739-2bb7-493d-cefb-85e560fdaa78"
      },
      "source": [
        "np2.sum(axis=0)  # 열(I)끼리 더함"
      ],
      "execution_count": 23,
      "outputs": [
        {
          "output_type": "execute_result",
          "data": {
            "text/plain": [
              "array([5, 7, 9])"
            ]
          },
          "metadata": {
            "tags": []
          },
          "execution_count": 23
        }
      ]
    },
    {
      "cell_type": "code",
      "metadata": {
        "colab": {
          "base_uri": "https://localhost:8080/"
        },
        "id": "VNGY6UoaKhnV",
        "outputId": "25b86d7a-7f08-4485-c395-bbf6f79768f2"
      },
      "source": [
        "np2.sum(axis=1)  # 행(J)끼리 더함 "
      ],
      "execution_count": 24,
      "outputs": [
        {
          "output_type": "execute_result",
          "data": {
            "text/plain": [
              "array([ 6, 15])"
            ]
          },
          "metadata": {
            "tags": []
          },
          "execution_count": 24
        }
      ]
    },
    {
      "cell_type": "code",
      "metadata": {
        "id": "EnpJWTBKK0nN"
      },
      "source": [
        "tt1 = [i for i in range(2, 21, 2)]\n",
        "tt2 = [i*3 for i in range(1, 11)]\n",
        "tt3 = [i for i in range(5, 51, 5)]"
      ],
      "execution_count": 30,
      "outputs": []
    },
    {
      "cell_type": "code",
      "metadata": {
        "colab": {
          "base_uri": "https://localhost:8080/"
        },
        "id": "CIcW_akqMHOC",
        "outputId": "7e479dc8-385d-41ef-8a2d-e99e41fcb15d"
      },
      "source": [
        "tt1, tt2, tt3"
      ],
      "execution_count": 31,
      "outputs": [
        {
          "output_type": "execute_result",
          "data": {
            "text/plain": [
              "([2, 4, 6, 8, 10, 12, 14, 16, 18, 20],\n",
              " [3, 6, 9, 12, 15, 18, 21, 24, 27, 30],\n",
              " [5, 10, 15, 20, 25, 30, 35, 40, 45, 50])"
            ]
          },
          "metadata": {
            "tags": []
          },
          "execution_count": 31
        }
      ]
    },
    {
      "cell_type": "code",
      "metadata": {
        "id": "FPMFPQZaN6-B"
      },
      "source": [
        "ttt = [tt1, tt2, tt3]\n",
        "np22 = np.array(ttt)"
      ],
      "execution_count": 32,
      "outputs": []
    },
    {
      "cell_type": "code",
      "metadata": {
        "colab": {
          "base_uri": "https://localhost:8080/"
        },
        "id": "JXknw_pmOLld",
        "outputId": "3aaecafa-c6f5-4beb-b585-fa579d1ebbd0"
      },
      "source": [
        "np22"
      ],
      "execution_count": 44,
      "outputs": [
        {
          "output_type": "execute_result",
          "data": {
            "text/plain": [
              "array([[ 2,  4,  6,  8, 10, 12, 14, 16, 18, 20],\n",
              "       [ 3,  6,  9, 12, 15, 18, 21, 24, 27, 30],\n",
              "       [ 5, 10, 15, 20, 25, 30, 35, 40, 45, 50]])"
            ]
          },
          "metadata": {
            "tags": []
          },
          "execution_count": 44
        }
      ]
    },
    {
      "cell_type": "code",
      "metadata": {
        "colab": {
          "base_uri": "https://localhost:8080/"
        },
        "id": "21LxmClfONoI",
        "outputId": "f250a76c-7d32-44e7-b403-864109efd244"
      },
      "source": [
        "type(ttt), type(np22)"
      ],
      "execution_count": 43,
      "outputs": [
        {
          "output_type": "execute_result",
          "data": {
            "text/plain": [
              "(list, numpy.ndarray)"
            ]
          },
          "metadata": {
            "tags": []
          },
          "execution_count": 43
        }
      ]
    },
    {
      "cell_type": "code",
      "metadata": {
        "colab": {
          "base_uri": "https://localhost:8080/"
        },
        "id": "4Fsy3hjwOioQ",
        "outputId": "fb191f52-c0e0-4ac4-c7dd-d179cd59d1ae"
      },
      "source": [
        "np22.sum(), np22[0].sum(), np22[1].sum(), np22[2].sum()"
      ],
      "execution_count": 42,
      "outputs": [
        {
          "output_type": "execute_result",
          "data": {
            "text/plain": [
              "(550, 110, 165, 275)"
            ]
          },
          "metadata": {
            "tags": []
          },
          "execution_count": 42
        }
      ]
    },
    {
      "cell_type": "code",
      "metadata": {
        "colab": {
          "base_uri": "https://localhost:8080/"
        },
        "id": "rFAaR3ZjOm_X",
        "outputId": "00b7fc76-fd0c-458a-8529-b5b15b39764f"
      },
      "source": [
        "np22.sum(axis=1)"
      ],
      "execution_count": 39,
      "outputs": [
        {
          "output_type": "execute_result",
          "data": {
            "text/plain": [
              "array([110, 165, 275])"
            ]
          },
          "metadata": {
            "tags": []
          },
          "execution_count": 39
        }
      ]
    },
    {
      "cell_type": "code",
      "metadata": {
        "colab": {
          "base_uri": "https://localhost:8080/"
        },
        "id": "4bUhJLSzO29b",
        "outputId": "726487b3-97f2-437f-9f2d-b93f0c445c63"
      },
      "source": [
        "np22.mean(axis=1), np22.mean(axis=0)"
      ],
      "execution_count": 45,
      "outputs": [
        {
          "output_type": "execute_result",
          "data": {
            "text/plain": [
              "(array([11. , 16.5, 27.5]),\n",
              " array([ 3.33333333,  6.66666667, 10.        , 13.33333333, 16.66666667,\n",
              "        20.        , 23.33333333, 26.66666667, 30.        , 33.33333333]))"
            ]
          },
          "metadata": {
            "tags": []
          },
          "execution_count": 45
        }
      ]
    },
    {
      "cell_type": "code",
      "metadata": {
        "colab": {
          "base_uri": "https://localhost:8080/"
        },
        "id": "rcKLzVRNQa09",
        "outputId": "5724612c-881e-4574-8ab5-17ad3ead4918"
      },
      "source": [
        "np23 = np22.T\n",
        "np23"
      ],
      "execution_count": 46,
      "outputs": [
        {
          "output_type": "execute_result",
          "data": {
            "text/plain": [
              "array([[ 2,  3,  5],\n",
              "       [ 4,  6, 10],\n",
              "       [ 6,  9, 15],\n",
              "       [ 8, 12, 20],\n",
              "       [10, 15, 25],\n",
              "       [12, 18, 30],\n",
              "       [14, 21, 35],\n",
              "       [16, 24, 40],\n",
              "       [18, 27, 45],\n",
              "       [20, 30, 50]])"
            ]
          },
          "metadata": {
            "tags": []
          },
          "execution_count": 46
        }
      ]
    },
    {
      "cell_type": "code",
      "metadata": {
        "colab": {
          "base_uri": "https://localhost:8080/"
        },
        "id": "nSuRc7oGQsOR",
        "outputId": "26e628f7-5bce-4e4f-d773-605ecb41fa5b"
      },
      "source": [
        "np23.min(), np23.max()"
      ],
      "execution_count": 47,
      "outputs": [
        {
          "output_type": "execute_result",
          "data": {
            "text/plain": [
              "(2, 50)"
            ]
          },
          "metadata": {
            "tags": []
          },
          "execution_count": 47
        }
      ]
    },
    {
      "cell_type": "code",
      "metadata": {
        "colab": {
          "base_uri": "https://localhost:8080/"
        },
        "id": "xCDWfsjMQv2f",
        "outputId": "857255ed-b52c-43e4-d1e7-929640b82a7a"
      },
      "source": [
        "np23.min(axis=1), np23.max(axis=0)"
      ],
      "execution_count": 48,
      "outputs": [
        {
          "output_type": "execute_result",
          "data": {
            "text/plain": [
              "(array([ 2,  4,  6,  8, 10, 12, 14, 16, 18, 20]), array([20, 30, 50]))"
            ]
          },
          "metadata": {
            "tags": []
          },
          "execution_count": 48
        }
      ]
    },
    {
      "cell_type": "code",
      "metadata": {
        "colab": {
          "base_uri": "https://localhost:8080/"
        },
        "id": "9I92LdHjRHaF",
        "outputId": "0edab6f0-1965-461d-abe4-fb1e4ccde5a3"
      },
      "source": [
        "np23.shape, np23.reshape(2, 15)"
      ],
      "execution_count": 50,
      "outputs": [
        {
          "output_type": "execute_result",
          "data": {
            "text/plain": [
              "((10, 3), array([[ 2,  3,  5,  4,  6, 10,  6,  9, 15,  8, 12, 20, 10, 15, 25],\n",
              "        [12, 18, 30, 14, 21, 35, 16, 24, 40, 18, 27, 45, 20, 30, 50]]))"
            ]
          },
          "metadata": {
            "tags": []
          },
          "execution_count": 50
        }
      ]
    },
    {
      "cell_type": "code",
      "metadata": {
        "colab": {
          "base_uri": "https://localhost:8080/",
          "height": 175
        },
        "id": "SGQonk7jSPb2",
        "outputId": "45874225-dbc9-44f2-fc48-9b8071190047"
      },
      "source": [
        "np23.reshape(2, 20)"
      ],
      "execution_count": 51,
      "outputs": [
        {
          "output_type": "error",
          "ename": "ValueError",
          "evalue": "ignored",
          "traceback": [
            "\u001b[0;31m---------------------------------------------------------------------------\u001b[0m",
            "\u001b[0;31mValueError\u001b[0m                                Traceback (most recent call last)",
            "\u001b[0;32m<ipython-input-51-2eda8aba42cd>\u001b[0m in \u001b[0;36m<module>\u001b[0;34m()\u001b[0m\n\u001b[0;32m----> 1\u001b[0;31m \u001b[0mnp23\u001b[0m\u001b[0;34m.\u001b[0m\u001b[0mreshape\u001b[0m\u001b[0;34m(\u001b[0m\u001b[0;36m2\u001b[0m\u001b[0;34m,\u001b[0m \u001b[0;36m20\u001b[0m\u001b[0;34m)\u001b[0m\u001b[0;34m\u001b[0m\u001b[0;34m\u001b[0m\u001b[0m\n\u001b[0m",
            "\u001b[0;31mValueError\u001b[0m: cannot reshape array of size 30 into shape (2,20)"
          ]
        }
      ]
    },
    {
      "cell_type": "code",
      "metadata": {
        "id": "PBwEcPZGSfHx"
      },
      "source": [
        "np24 = np.array([i for i in range(1, 25)])"
      ],
      "execution_count": 53,
      "outputs": []
    },
    {
      "cell_type": "code",
      "metadata": {
        "colab": {
          "base_uri": "https://localhost:8080/"
        },
        "id": "0EcfhnUkSytQ",
        "outputId": "e9e980d9-6a4c-403c-c4d6-98e1c40b0ec7"
      },
      "source": [
        "np24.reshape(3, 8), np24.reshape(4, 6)"
      ],
      "execution_count": 56,
      "outputs": [
        {
          "output_type": "execute_result",
          "data": {
            "text/plain": [
              "(array([[ 1,  2,  3,  4,  5,  6,  7,  8],\n",
              "        [ 9, 10, 11, 12, 13, 14, 15, 16],\n",
              "        [17, 18, 19, 20, 21, 22, 23, 24]]), array([[ 1,  2,  3,  4,  5,  6],\n",
              "        [ 7,  8,  9, 10, 11, 12],\n",
              "        [13, 14, 15, 16, 17, 18],\n",
              "        [19, 20, 21, 22, 23, 24]]))"
            ]
          },
          "metadata": {
            "tags": []
          },
          "execution_count": 56
        }
      ]
    },
    {
      "cell_type": "code",
      "metadata": {
        "colab": {
          "base_uri": "https://localhost:8080/"
        },
        "id": "23eUWxHvTB1-",
        "outputId": "702b5b4d-6e92-463c-be46-84decbd1484f"
      },
      "source": [
        "np11 = np.array([2, 4, 6, 8, 10])\n",
        "np11.dtype  # 64bit"
      ],
      "execution_count": 61,
      "outputs": [
        {
          "output_type": "execute_result",
          "data": {
            "text/plain": [
              "dtype('int64')"
            ]
          },
          "metadata": {
            "tags": []
          },
          "execution_count": 61
        }
      ]
    },
    {
      "cell_type": "code",
      "metadata": {
        "colab": {
          "base_uri": "https://localhost:8080/"
        },
        "id": "78NplL5tUAie",
        "outputId": "f77c4fbc-0799-4cc1-b27e-672a18924abf"
      },
      "source": [
        "np12 = np.array([2, 4, 6, 8, 10], dtype = np.int16)\n",
        "np12.dtype  # 16bit"
      ],
      "execution_count": 62,
      "outputs": [
        {
          "output_type": "execute_result",
          "data": {
            "text/plain": [
              "dtype('int16')"
            ]
          },
          "metadata": {
            "tags": []
          },
          "execution_count": 62
        }
      ]
    },
    {
      "cell_type": "code",
      "metadata": {
        "colab": {
          "base_uri": "https://localhost:8080/"
        },
        "id": "fTgvSI9FUwhI",
        "outputId": "cf5ac176-2122-4302-cdc4-5d7dcf13dac1"
      },
      "source": [
        "np11.nbytes , np12.nbytes,  np11.itemsize, np12.itemsize  \n",
        "# 64bit=8byte, 16bit=2byte -> itemsize\n",
        "# 각각 원소가 5개씩이므로 nbytes는 각각 40, 10byte"
      ],
      "execution_count": 63,
      "outputs": [
        {
          "output_type": "execute_result",
          "data": {
            "text/plain": [
              "(40, 10, 8, 2)"
            ]
          },
          "metadata": {
            "tags": []
          },
          "execution_count": 63
        }
      ]
    },
    {
      "cell_type": "code",
      "metadata": {
        "colab": {
          "base_uri": "https://localhost:8080/"
        },
        "id": "Nvrodv-mVIfT",
        "outputId": "7d2746e5-7aae-4358-d5bb-844059d3c75f"
      },
      "source": [
        "np200 = np.array([2.3, 4.5, 6.7])\n",
        "np200.dtype, np200.nbytes"
      ],
      "execution_count": 65,
      "outputs": [
        {
          "output_type": "execute_result",
          "data": {
            "text/plain": [
              "(dtype('float64'), 24)"
            ]
          },
          "metadata": {
            "tags": []
          },
          "execution_count": 65
        }
      ]
    },
    {
      "cell_type": "code",
      "metadata": {
        "colab": {
          "base_uri": "https://localhost:8080/"
        },
        "id": "HMWM0WlOafqY",
        "outputId": "7e368adc-6f10-4411-e319-6b3b1a88e76e"
      },
      "source": [
        "np201 = np.array([2.3, 4.5, 6.7], dtype = np.float16)\n",
        "np201.nbytes  # 16bit=2byte, 원소가 3개라 총 6byte"
      ],
      "execution_count": 66,
      "outputs": [
        {
          "output_type": "execute_result",
          "data": {
            "text/plain": [
              "6"
            ]
          },
          "metadata": {
            "tags": []
          },
          "execution_count": 66
        }
      ]
    },
    {
      "cell_type": "code",
      "metadata": {
        "id": "dIuvON-oa8G0"
      },
      "source": [
        "np13 = np.array([2, 4, 5], dtype='uint')  # u -> unsigned, uint -> 양수로만 값을 매김"
      ],
      "execution_count": 67,
      "outputs": []
    },
    {
      "cell_type": "code",
      "metadata": {
        "colab": {
          "base_uri": "https://localhost:8080/"
        },
        "id": "FGOVsprgbSbH",
        "outputId": "389699a5-be29-442c-a38a-d862c40154e7"
      },
      "source": [
        "np.empty([2, 5])"
      ],
      "execution_count": 68,
      "outputs": [
        {
          "output_type": "execute_result",
          "data": {
            "text/plain": [
              "array([[ 3.33333333,  6.66666667, 10.        , 13.33333333, 16.66666667],\n",
              "       [20.        , 23.33333333, 26.66666667, 30.        , 33.33333333]])"
            ]
          },
          "metadata": {
            "tags": []
          },
          "execution_count": 68
        }
      ]
    },
    {
      "cell_type": "code",
      "metadata": {
        "colab": {
          "base_uri": "https://localhost:8080/"
        },
        "id": "Whu9aFHIbyHN",
        "outputId": "e653b68f-0df1-42db-bae8-5029c0068c6c"
      },
      "source": [
        "np.empty([7, 2])"
      ],
      "execution_count": 69,
      "outputs": [
        {
          "output_type": "execute_result",
          "data": {
            "text/plain": [
              "array([[4.64863235e-310, 0.00000000e+000],\n",
              "       [0.00000000e+000, 0.00000000e+000],\n",
              "       [0.00000000e+000, 0.00000000e+000],\n",
              "       [0.00000000e+000, 0.00000000e+000],\n",
              "       [0.00000000e+000, 0.00000000e+000],\n",
              "       [0.00000000e+000, 0.00000000e+000],\n",
              "       [0.00000000e+000, 2.61354267e-306]])"
            ]
          },
          "metadata": {
            "tags": []
          },
          "execution_count": 69
        }
      ]
    },
    {
      "cell_type": "code",
      "metadata": {
        "colab": {
          "base_uri": "https://localhost:8080/"
        },
        "id": "-kdl5uZtb7SU",
        "outputId": "26811c61-a62c-4c67-d1f2-1804fb52ef8c"
      },
      "source": [
        "np.zeros([3, 4]), np.ones([3, 4])"
      ],
      "execution_count": 70,
      "outputs": [
        {
          "output_type": "execute_result",
          "data": {
            "text/plain": [
              "(array([[0., 0., 0., 0.],\n",
              "        [0., 0., 0., 0.],\n",
              "        [0., 0., 0., 0.]]), array([[1., 1., 1., 1.],\n",
              "        [1., 1., 1., 1.],\n",
              "        [1., 1., 1., 1.]]))"
            ]
          },
          "metadata": {
            "tags": []
          },
          "execution_count": 70
        }
      ]
    },
    {
      "cell_type": "code",
      "metadata": {
        "colab": {
          "base_uri": "https://localhost:8080/"
        },
        "id": "f55dtZBNcCv1",
        "outputId": "9044ce21-4b43-4cf9-a4c0-893724b0491f"
      },
      "source": [
        "np.arange(6), np.arange(1, 20, 2)"
      ],
      "execution_count": 71,
      "outputs": [
        {
          "output_type": "execute_result",
          "data": {
            "text/plain": [
              "(array([0, 1, 2, 3, 4, 5]), array([ 1,  3,  5,  7,  9, 11, 13, 15, 17, 19]))"
            ]
          },
          "metadata": {
            "tags": []
          },
          "execution_count": 71
        }
      ]
    }
  ]
}