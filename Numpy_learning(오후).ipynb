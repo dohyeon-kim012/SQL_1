{
  "nbformat": 4,
  "nbformat_minor": 0,
  "metadata": {
    "colab": {
      "name": "Numpy_learning(오후).ipynb",
      "provenance": [],
      "authorship_tag": "ABX9TyNNi3LksHVTvuu4Qq5UXPgF",
      "include_colab_link": true
    },
    "kernelspec": {
      "name": "python3",
      "display_name": "Python 3"
    },
    "language_info": {
      "name": "python"
    }
  },
  "cells": [
    {
      "cell_type": "markdown",
      "metadata": {
        "id": "view-in-github",
        "colab_type": "text"
      },
      "source": [
        "<a href=\"https://colab.research.google.com/github/dohyeon-kim012/SQL_1/blob/main/Numpy_learning(%EC%98%A4%ED%9B%84).ipynb\" target=\"_parent\"><img src=\"https://colab.research.google.com/assets/colab-badge.svg\" alt=\"Open In Colab\"/></a>"
      ]
    },
    {
      "cell_type": "code",
      "metadata": {
        "id": "KqLrHTu0_mLO"
      },
      "source": [
        "import numpy as np\n",
        "np11 = np.array([2, 4, 6, 8], dtype=np.int16)\n",
        "np12  = np.array([3, 6, 9, 12, 15], dtype=np.int16)"
      ],
      "execution_count": null,
      "outputs": []
    },
    {
      "cell_type": "code",
      "metadata": {
        "colab": {
          "base_uri": "https://localhost:8080/"
        },
        "id": "WjgE_m39AUzw",
        "outputId": "c714735d-5b43-45fe-c000-fb0197be8bc7"
      },
      "source": [
        "np11.shape, np12.shape"
      ],
      "execution_count": null,
      "outputs": [
        {
          "output_type": "execute_result",
          "data": {
            "text/plain": [
              "((4,), (5,))"
            ]
          },
          "metadata": {
            "tags": []
          },
          "execution_count": 3
        }
      ]
    },
    {
      "cell_type": "code",
      "metadata": {
        "colab": {
          "base_uri": "https://localhost:8080/"
        },
        "id": "tfZNl0xBApqk",
        "outputId": "f8f9d853-0efc-462b-9ff9-7baca36ec4ec"
      },
      "source": [
        "np11 += 5\n",
        "np11"
      ],
      "execution_count": null,
      "outputs": [
        {
          "output_type": "execute_result",
          "data": {
            "text/plain": [
              "array([ 7,  9, 11, 13], dtype=int16)"
            ]
          },
          "metadata": {
            "tags": []
          },
          "execution_count": 6
        }
      ]
    },
    {
      "cell_type": "code",
      "metadata": {
        "colab": {
          "base_uri": "https://localhost:8080/"
        },
        "id": "GyF2KLN9A4O_",
        "outputId": "e01f1990-9107-4f74-a344-aacf3e5326d0"
      },
      "source": [
        "np11 > 10, np11 == 11   "
      ],
      "execution_count": null,
      "outputs": [
        {
          "output_type": "execute_result",
          "data": {
            "text/plain": [
              "(array([False, False,  True,  True]), array([False, False,  True, False]))"
            ]
          },
          "metadata": {
            "tags": []
          },
          "execution_count": 8
        }
      ]
    },
    {
      "cell_type": "code",
      "metadata": {
        "colab": {
          "base_uri": "https://localhost:8080/"
        },
        "id": "skhCl4NbBdiQ",
        "outputId": "a1af76f5-1e64-4742-fd8b-3844f37be41c"
      },
      "source": [
        "np13 = np.arange(1, 11)\n",
        "np13"
      ],
      "execution_count": null,
      "outputs": [
        {
          "output_type": "execute_result",
          "data": {
            "text/plain": [
              "array([ 1,  2,  3,  4,  5,  6,  7,  8,  9, 10])"
            ]
          },
          "metadata": {
            "tags": []
          },
          "execution_count": 14
        }
      ]
    },
    {
      "cell_type": "code",
      "metadata": {
        "colab": {
          "base_uri": "https://localhost:8080/"
        },
        "id": "BAqtXN87B85E",
        "outputId": "b1519f52-83c7-431e-b3f4-508306c26946"
      },
      "source": [
        "np13[3:7] +=5\n",
        "np13"
      ],
      "execution_count": null,
      "outputs": [
        {
          "output_type": "execute_result",
          "data": {
            "text/plain": [
              "array([ 1,  2,  3,  9, 10, 11, 12,  8,  9, 10])"
            ]
          },
          "metadata": {
            "tags": []
          },
          "execution_count": 16
        }
      ]
    },
    {
      "cell_type": "code",
      "metadata": {
        "id": "lRcfGVpkCnPB"
      },
      "source": [
        "np13[4] = 90"
      ],
      "execution_count": null,
      "outputs": []
    },
    {
      "cell_type": "code",
      "metadata": {
        "colab": {
          "base_uri": "https://localhost:8080/"
        },
        "id": "ayVZ8-bIDd2j",
        "outputId": "ee85f169-6cac-4810-af56-10dc48154e8a"
      },
      "source": [
        "np13[6:] = 0\n",
        "np13"
      ],
      "execution_count": null,
      "outputs": [
        {
          "output_type": "execute_result",
          "data": {
            "text/plain": [
              "array([ 1,  2,  3,  9, 90, 11,  0,  0,  0,  0])"
            ]
          },
          "metadata": {
            "tags": []
          },
          "execution_count": 20
        }
      ]
    },
    {
      "cell_type": "code",
      "metadata": {
        "colab": {
          "base_uri": "https://localhost:8080/"
        },
        "id": "Bk_FZlQrD-wK",
        "outputId": "b7bed6ab-eba7-47c7-e2c1-1834934e9a0c"
      },
      "source": [
        "a1 = [1, 2, 3, 4, 5]\n",
        "a2 = [6, 7, 8, 9, 10]\n",
        "a3 = [11, 12, 13, 14, 15]\n",
        "np2 = np.array([a1, a2, a3])\n",
        "np2"
      ],
      "execution_count": null,
      "outputs": [
        {
          "output_type": "execute_result",
          "data": {
            "text/plain": [
              "array([[ 1,  2,  3,  4,  5],\n",
              "       [ 6,  7,  8,  9, 10],\n",
              "       [11, 12, 13, 14, 15]])"
            ]
          },
          "metadata": {
            "tags": []
          },
          "execution_count": 23
        }
      ]
    },
    {
      "cell_type": "code",
      "metadata": {
        "colab": {
          "base_uri": "https://localhost:8080/"
        },
        "id": "yCtBypVrFcuZ",
        "outputId": "8e341a83-b36d-4991-ce07-a42b4324e052"
      },
      "source": [
        "np3 = np2[:2,:2] + 5    # [행, 열] -> 1열,1행까지의 범위 값에 +5\n",
        "np3"
      ],
      "execution_count": null,
      "outputs": [
        {
          "output_type": "execute_result",
          "data": {
            "text/plain": [
              "array([[ 6,  7],\n",
              "       [11, 12]])"
            ]
          },
          "metadata": {
            "tags": []
          },
          "execution_count": 30
        }
      ]
    },
    {
      "cell_type": "code",
      "metadata": {
        "colab": {
          "base_uri": "https://localhost:8080/"
        },
        "id": "kM5edXEEFwxk",
        "outputId": "2ce3db29-0f21-4100-a7a5-3bd427b5f472"
      },
      "source": [
        "np4 = np2[:,2:4] * 10   # 모든 행, 2-3열까지 범위 값에 * 10\n",
        "np4"
      ],
      "execution_count": null,
      "outputs": [
        {
          "output_type": "execute_result",
          "data": {
            "text/plain": [
              "array([[ 30,  40],\n",
              "       [ 80,  90],\n",
              "       [130, 140]])"
            ]
          },
          "metadata": {
            "tags": []
          },
          "execution_count": 29
        }
      ]
    },
    {
      "cell_type": "code",
      "metadata": {
        "colab": {
          "base_uri": "https://localhost:8080/"
        },
        "id": "V3Vyi8-oHSf0",
        "outputId": "7d2c098b-e059-409c-b8fd-2ff5c77365a3"
      },
      "source": [
        "np5 = np.arange(1, 16)\n",
        "np5"
      ],
      "execution_count": null,
      "outputs": [
        {
          "output_type": "execute_result",
          "data": {
            "text/plain": [
              "array([ 1,  2,  3,  4,  5,  6,  7,  8,  9, 10, 11, 12, 13, 14, 15])"
            ]
          },
          "metadata": {
            "tags": []
          },
          "execution_count": 34
        }
      ]
    },
    {
      "cell_type": "code",
      "metadata": {
        "colab": {
          "base_uri": "https://localhost:8080/"
        },
        "id": "YnlVtk0UJYRv",
        "outputId": "6b4979a7-4c9d-4467-fb41-b6c7e26146c3"
      },
      "source": [
        "np5.reshape(3, 5)  #arange와 reshape을 이용해서 1차원을 2차원으로 만들기"
      ],
      "execution_count": null,
      "outputs": [
        {
          "output_type": "execute_result",
          "data": {
            "text/plain": [
              "array([[ 1,  2,  3,  4,  5],\n",
              "       [ 6,  7,  8,  9, 10],\n",
              "       [11, 12, 13, 14, 15]])"
            ]
          },
          "metadata": {
            "tags": []
          },
          "execution_count": 36
        }
      ]
    },
    {
      "cell_type": "code",
      "metadata": {
        "colab": {
          "base_uri": "https://localhost:8080/"
        },
        "id": "KteVmAOsJpzK",
        "outputId": "17effcd7-a48c-4330-ad4e-cffbdedd8a01"
      },
      "source": [
        "np6 = np.arange(10, 241, 10)\n",
        "np6, np6.ndim, np6.shape  # ndim : array의 차원 확인"
      ],
      "execution_count": null,
      "outputs": [
        {
          "output_type": "execute_result",
          "data": {
            "text/plain": [
              "(array([ 10,  20,  30,  40,  50,  60,  70,  80,  90, 100, 110, 120, 130,\n",
              "        140, 150, 160, 170, 180, 190, 200, 210, 220, 230, 240]), 1, (24,))"
            ]
          },
          "metadata": {
            "tags": []
          },
          "execution_count": 42
        }
      ]
    },
    {
      "cell_type": "code",
      "metadata": {
        "colab": {
          "base_uri": "https://localhost:8080/"
        },
        "id": "cGq6YrGwVX_E",
        "outputId": "3e4d781d-5fbc-442c-e6a8-a519bded6aef"
      },
      "source": [
        "np7 = np6.reshape(2, 3, 4)    # np6을 3행 4열 2개로 나누어 3차원으로 만듦\n",
        "np7.ndim, np7.shape, np7"
      ],
      "execution_count": null,
      "outputs": [
        {
          "output_type": "execute_result",
          "data": {
            "text/plain": [
              "(3, (2, 3, 4), array([[[ 10,  20,  30,  40],\n",
              "         [ 50,  60,  70,  80],\n",
              "         [ 90, 100, 110, 120]],\n",
              " \n",
              "        [[130, 140, 150, 160],\n",
              "         [170, 180, 190, 200],\n",
              "         [210, 220, 230, 240]]]))"
            ]
          },
          "metadata": {
            "tags": []
          },
          "execution_count": 44
        }
      ]
    },
    {
      "cell_type": "code",
      "metadata": {
        "colab": {
          "base_uri": "https://localhost:8080/"
        },
        "id": "YMcAHPRyWLqK",
        "outputId": "a56f3874-281d-4dd8-ab51-ec463bfcf688"
      },
      "source": [
        "np7[0, 2, 2]"
      ],
      "execution_count": null,
      "outputs": [
        {
          "output_type": "execute_result",
          "data": {
            "text/plain": [
              "110"
            ]
          },
          "metadata": {
            "tags": []
          },
          "execution_count": 45
        }
      ]
    },
    {
      "cell_type": "code",
      "metadata": {
        "colab": {
          "base_uri": "https://localhost:8080/"
        },
        "id": "oDoiYJaQWt4J",
        "outputId": "24255541-0e68-4ff3-8072-fcb9be4ccecc"
      },
      "source": [
        "np7[0,1,1:3]"
      ],
      "execution_count": null,
      "outputs": [
        {
          "output_type": "execute_result",
          "data": {
            "text/plain": [
              "array([60, 70])"
            ]
          },
          "metadata": {
            "tags": []
          },
          "execution_count": 46
        }
      ]
    },
    {
      "cell_type": "code",
      "metadata": {
        "colab": {
          "base_uri": "https://localhost:8080/"
        },
        "id": "T7xgmvGEXvfl",
        "outputId": "fbb8d8a2-9511-403f-9322-62362595b7ca"
      },
      "source": [
        "np8 = np6.reshape(2, 3, 2, 2)\n",
        "np8.ndim, np8"
      ],
      "execution_count": 48,
      "outputs": [
        {
          "output_type": "execute_result",
          "data": {
            "text/plain": [
              "(4, array([[[[ 10,  20],\n",
              "          [ 30,  40]],\n",
              " \n",
              "         [[ 50,  60],\n",
              "          [ 70,  80]],\n",
              " \n",
              "         [[ 90, 100],\n",
              "          [110, 120]]],\n",
              " \n",
              " \n",
              "        [[[130, 140],\n",
              "          [150, 160]],\n",
              " \n",
              "         [[170, 180],\n",
              "          [190, 200]],\n",
              " \n",
              "         [[210, 220],\n",
              "          [230, 240]]]]))"
            ]
          },
          "metadata": {
            "tags": []
          },
          "execution_count": 48
        }
      ]
    },
    {
      "cell_type": "markdown",
      "metadata": {
        "id": "chAp_S_Vot2U"
      },
      "source": [
        "5/18 오후과제"
      ]
    },
    {
      "cell_type": "code",
      "metadata": {
        "colab": {
          "base_uri": "https://localhost:8080/"
        },
        "id": "uERXbPLFkTZU",
        "outputId": "6aaa8f44-fc7c-43bf-aea9-14e39b17e930"
      },
      "source": [
        "np7"
      ],
      "execution_count": 49,
      "outputs": [
        {
          "output_type": "execute_result",
          "data": {
            "text/plain": [
              "array([[[ 10,  20,  30,  40],\n",
              "        [ 50,  60,  70,  80],\n",
              "        [ 90, 100, 110, 120]],\n",
              "\n",
              "       [[130, 140, 150, 160],\n",
              "        [170, 180, 190, 200],\n",
              "        [210, 220, 230, 240]]])"
            ]
          },
          "metadata": {
            "tags": []
          },
          "execution_count": 49
        }
      ]
    },
    {
      "cell_type": "code",
      "metadata": {
        "colab": {
          "base_uri": "https://localhost:8080/"
        },
        "id": "1KU0QG6ykXyj",
        "outputId": "6836e3ba-65e9-4cff-fc40-5ac8af7aa949"
      },
      "source": [
        "np7[0,0,2]"
      ],
      "execution_count": 50,
      "outputs": [
        {
          "output_type": "execute_result",
          "data": {
            "text/plain": [
              "30"
            ]
          },
          "metadata": {
            "tags": []
          },
          "execution_count": 50
        }
      ]
    },
    {
      "cell_type": "code",
      "metadata": {
        "colab": {
          "base_uri": "https://localhost:8080/"
        },
        "id": "swhsxNfakhfo",
        "outputId": "818dce27-6e8c-437f-d0cb-76f455b78553"
      },
      "source": [
        "np7[0,2]"
      ],
      "execution_count": 51,
      "outputs": [
        {
          "output_type": "execute_result",
          "data": {
            "text/plain": [
              "array([ 90, 100, 110, 120])"
            ]
          },
          "metadata": {
            "tags": []
          },
          "execution_count": 51
        }
      ]
    },
    {
      "cell_type": "code",
      "metadata": {
        "colab": {
          "base_uri": "https://localhost:8080/"
        },
        "id": "kWxJyxtHko3g",
        "outputId": "c2537a03-6826-4e17-984d-701aed28bf82"
      },
      "source": [
        "np7[1,1:3,:2]"
      ],
      "execution_count": 53,
      "outputs": [
        {
          "output_type": "execute_result",
          "data": {
            "text/plain": [
              "array([[170, 180],\n",
              "       [210, 220]])"
            ]
          },
          "metadata": {
            "tags": []
          },
          "execution_count": 53
        }
      ]
    },
    {
      "cell_type": "code",
      "metadata": {
        "colab": {
          "base_uri": "https://localhost:8080/"
        },
        "id": "RC3AX_l6kxls",
        "outputId": "f349a792-792f-4c8b-f28e-da0b86a9f74e"
      },
      "source": [
        "np7[0,1:, 2:],np7[1,:2,2:]"
      ],
      "execution_count": 56,
      "outputs": [
        {
          "output_type": "execute_result",
          "data": {
            "text/plain": [
              "(array([[ 70,  80],\n",
              "        [110, 120]]), array([[150, 160],\n",
              "        [190, 200]]))"
            ]
          },
          "metadata": {
            "tags": []
          },
          "execution_count": 56
        }
      ]
    },
    {
      "cell_type": "code",
      "metadata": {
        "colab": {
          "base_uri": "https://localhost:8080/"
        },
        "id": "8NiJLJ9GlYpE",
        "outputId": "a548681f-aa64-47d0-c018-bac95c97d0b7"
      },
      "source": [
        "np7[1, 1:, 2:] = np7[1, 1:, 2:] - 40\n",
        "np7[0:2, 1:3, 2:]"
      ],
      "execution_count": 61,
      "outputs": [
        {
          "output_type": "execute_result",
          "data": {
            "text/plain": [
              "array([[[ 70,  80],\n",
              "        [110, 120]],\n",
              "\n",
              "       [[150, 160],\n",
              "        [190, 200]]])"
            ]
          },
          "metadata": {
            "tags": []
          },
          "execution_count": 61
        }
      ]
    }
  ]
}